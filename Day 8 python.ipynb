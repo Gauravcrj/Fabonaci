{
 "cells": [
  {
   "cell_type": "markdown",
   "id": "c58e4e05",
   "metadata": {},
   "source": [
    "### Multiple Inheritance"
   ]
  },
  {
   "cell_type": "code",
   "execution_count": null,
   "id": "61b6084c",
   "metadata": {},
   "outputs": [],
   "source": [
    "## Parent class\n",
    "class a:\n",
    "    def method1(self):\n",
    "        print(\"a class method\")"
   ]
  },
  {
   "cell_type": "code",
   "execution_count": null,
   "id": "00ec4fec",
   "metadata": {},
   "outputs": [],
   "source": [
    "class b(a):\n",
    "    def method2(self):\n",
    "        print (\"B class method\")"
   ]
  },
  {
   "cell_type": "code",
   "execution_count": null,
   "id": "a4bd2431",
   "metadata": {},
   "outputs": [],
   "source": [
    "class c(a):\n",
    "    def method3(self):\n",
    "        print(\"C class method\")"
   ]
  },
  {
   "cell_type": "code",
   "execution_count": null,
   "id": "8c7400d4",
   "metadata": {},
   "outputs": [],
   "source": [
    "class d(b,c):\n",
    "    def method4(self):\n",
    "        print(\"D class method\")"
   ]
  },
  {
   "cell_type": "code",
   "execution_count": null,
   "id": "c8824095",
   "metadata": {},
   "outputs": [],
   "source": [
    "o=d()"
   ]
  },
  {
   "cell_type": "code",
   "execution_count": null,
   "id": "16ee2b27",
   "metadata": {},
   "outputs": [],
   "source": [
    "o.method2()\n"
   ]
  },
  {
   "cell_type": "code",
   "execution_count": null,
   "id": "09b9fca1",
   "metadata": {},
   "outputs": [],
   "source": [
    "o.method1()"
   ]
  },
  {
   "cell_type": "code",
   "execution_count": null,
   "id": "26033df7",
   "metadata": {},
   "outputs": [],
   "source": [
    "p=b()"
   ]
  },
  {
   "cell_type": "code",
   "execution_count": null,
   "id": "030761c0",
   "metadata": {},
   "outputs": [],
   "source": [
    "p.method4()"
   ]
  },
  {
   "cell_type": "code",
   "execution_count": null,
   "id": "2714222c",
   "metadata": {},
   "outputs": [],
   "source": [
    "p.method3()"
   ]
  },
  {
   "cell_type": "code",
   "execution_count": null,
   "id": "e7ac0f01",
   "metadata": {},
   "outputs": [],
   "source": [
    "p.method2()"
   ]
  },
  {
   "cell_type": "code",
   "execution_count": null,
   "id": "8d2223eb",
   "metadata": {},
   "outputs": [],
   "source": [
    "p.method1()"
   ]
  },
  {
   "cell_type": "code",
   "execution_count": null,
   "id": "c4067310",
   "metadata": {},
   "outputs": [],
   "source": [
    "class a:\n",
    "    def method1(self):\n",
    "        print(\"a class method\")\n",
    "        "
   ]
  },
  {
   "cell_type": "code",
   "execution_count": null,
   "id": "22f56ff2",
   "metadata": {},
   "outputs": [],
   "source": [
    "class b(a):\n",
    "    def method1(self):\n",
    "        print(\"b class method\")"
   ]
  },
  {
   "cell_type": "code",
   "execution_count": null,
   "id": "fd6ffa9b",
   "metadata": {},
   "outputs": [],
   "source": [
    "class c(a):\n",
    "    def method1(self):\n",
    "        print(\"c class method\")"
   ]
  },
  {
   "cell_type": "code",
   "execution_count": null,
   "id": "8c57b7ab",
   "metadata": {},
   "outputs": [],
   "source": [
    "class d(b,c):\n",
    "    def method1(self):\n",
    "        print(\"d class method\")"
   ]
  },
  {
   "cell_type": "code",
   "execution_count": null,
   "id": "e70ea400",
   "metadata": {},
   "outputs": [],
   "source": [
    "D=d()"
   ]
  },
  {
   "cell_type": "code",
   "execution_count": null,
   "id": "04cf90c8",
   "metadata": {},
   "outputs": [],
   "source": [
    "D.method1()"
   ]
  },
  {
   "cell_type": "code",
   "execution_count": null,
   "id": "62684d64",
   "metadata": {},
   "outputs": [],
   "source": [
    "c.method1(d)"
   ]
  },
  {
   "cell_type": "code",
   "execution_count": null,
   "id": "4ab5f408",
   "metadata": {},
   "outputs": [],
   "source": [
    "b.method1(D)"
   ]
  },
  {
   "cell_type": "markdown",
   "id": "3a0278c0",
   "metadata": {},
   "source": [
    "###Public   Protected  and Private class variable  Access Modifier\n",
    "* self.name = public class variable\n",
    "* self._name = protected class variable\n",
    "* self.__name = private class variable"
   ]
  },
  {
   "cell_type": "code",
   "execution_count": null,
   "id": "b240eb53",
   "metadata": {},
   "outputs": [],
   "source": [
    "## All class varaible are public\n",
    "class letsupgrade:\n",
    "    def __init__(self,name,age):\n",
    "        self.name=name\n",
    "        self.age=age\n",
    "    def dispalyage(self):\n",
    "        print(\"The age is\" , self.age)\n",
    "        "
   ]
  },
  {
   "cell_type": "code",
   "execution_count": null,
   "id": "5b41ea49",
   "metadata": {},
   "outputs": [],
   "source": [
    "obj=letsupgrade(\"Ram\",24)"
   ]
  },
  {
   "cell_type": "code",
   "execution_count": null,
   "id": "7fbd2405",
   "metadata": {},
   "outputs": [],
   "source": [
    "obj.displayage()"
   ]
  },
  {
   "cell_type": "code",
   "execution_count": null,
   "id": "32553063",
   "metadata": {},
   "outputs": [],
   "source": [
    "obj.dispalyage()"
   ]
  },
  {
   "cell_type": "code",
   "execution_count": null,
   "id": "cdab812a",
   "metadata": {},
   "outputs": [],
   "source": [
    "ojb.age=21"
   ]
  },
  {
   "cell_type": "code",
   "execution_count": null,
   "id": "10a3860c",
   "metadata": {},
   "outputs": [],
   "source": [
    "obj.age=21\n"
   ]
  },
  {
   "cell_type": "code",
   "execution_count": null,
   "id": "e261cfd4",
   "metadata": {},
   "outputs": [],
   "source": [
    "obj.age"
   ]
  },
  {
   "cell_type": "code",
   "execution_count": null,
   "id": "00759166",
   "metadata": {},
   "outputs": [],
   "source": [
    "### Protected access modifiers"
   ]
  },
  {
   "cell_type": "code",
   "execution_count": null,
   "id": "2409d104",
   "metadata": {},
   "outputs": [],
   "source": [
    "class LU:\n",
    "    def __init__(self,name,age,roll):\n",
    "        self._name =name\n",
    "        self._age= age\n",
    "        self._roll=roll\n",
    "class batch(LU):\n",
    "    def __init__(self,name,age,roll,rank):\n",
    "        super().__init__(name,age,roll)\n",
    "        self.rank= rank\n",
    "        "
   ]
  },
  {
   "cell_type": "code",
   "execution_count": null,
   "id": "a87a0a5a",
   "metadata": {},
   "outputs": [],
   "source": [
    "b=batch(\"sam\",20,1221,3)\n",
    "b._age\n",
    "b._age=31\n",
    "b._age"
   ]
  },
  {
   "cell_type": "code",
   "execution_count": null,
   "id": "77501359",
   "metadata": {},
   "outputs": [],
   "source": [
    "dir(b)"
   ]
  },
  {
   "cell_type": "code",
   "execution_count": null,
   "id": "a17d568c",
   "metadata": {},
   "outputs": [],
   "source": [
    "### iterable\n",
    "lst=[1,2,3,4,5,6,7]\n",
    "for i in lst:\n",
    "    print(i)"
   ]
  },
  {
   "cell_type": "code",
   "execution_count": null,
   "id": "02af393b",
   "metadata": {},
   "outputs": [],
   "source": [
    "iter(lst) ## iterator using Iter"
   ]
  },
  {
   "cell_type": "code",
   "execution_count": null,
   "id": "7eebf661",
   "metadata": {},
   "outputs": [],
   "source": [
    "iterable=iter(lst)"
   ]
  },
  {
   "cell_type": "code",
   "execution_count": null,
   "id": "3a03ae40",
   "metadata": {},
   "outputs": [],
   "source": [
    "next(iterable)"
   ]
  },
  {
   "cell_type": "code",
   "execution_count": null,
   "id": "3e9775ae",
   "metadata": {},
   "outputs": [],
   "source": [
    "try:\n",
    "    print(next(iterable))\n",
    "except StopIteration:\n",
    "    print(\"List is empty\")"
   ]
  },
  {
   "cell_type": "markdown",
   "id": "e1047b4d",
   "metadata": {},
   "source": [
    "## Python Generator\n"
   ]
  },
  {
   "cell_type": "code",
   "execution_count": null,
   "id": "ce3c69d9",
   "metadata": {},
   "outputs": [],
   "source": [
    "def cube(n):\n",
    "    for i in range(n):\n",
    "        return i**3"
   ]
  },
  {
   "cell_type": "code",
   "execution_count": null,
   "id": "9bbcf288",
   "metadata": {},
   "outputs": [],
   "source": [
    "cube(4)"
   ]
  },
  {
   "cell_type": "code",
   "execution_count": null,
   "id": "78e7a5fd",
   "metadata": {},
   "outputs": [],
   "source": [
    "def cube(n):\n",
    "    for i in range(n):\n",
    "        yield i**3"
   ]
  },
  {
   "cell_type": "code",
   "execution_count": null,
   "id": "b7cb83ce",
   "metadata": {},
   "outputs": [],
   "source": [
    "cube(4)"
   ]
  },
  {
   "cell_type": "code",
   "execution_count": null,
   "id": "3b1d8b62",
   "metadata": {},
   "outputs": [],
   "source": [
    "for i in cube(4):\n",
    "    print (i)\n",
    " "
   ]
  },
  {
   "cell_type": "code",
   "execution_count": null,
   "id": "71768271",
   "metadata": {},
   "outputs": [],
   "source": [
    "x= cube(4)"
   ]
  },
  {
   "cell_type": "code",
   "execution_count": null,
   "id": "d09e274b",
   "metadata": {},
   "outputs": [],
   "source": [
    "x"
   ]
  },
  {
   "cell_type": "code",
   "execution_count": null,
   "id": "1e1f13b6",
   "metadata": {},
   "outputs": [],
   "source": [
    "next(x) ## using a generator we can also create a iterator."
   ]
  },
  {
   "cell_type": "code",
   "execution_count": null,
   "id": "40051f22",
   "metadata": {},
   "outputs": [],
   "source": [
    "### Fabonaicci sequence of numbers using a generator\n"
   ]
  },
  {
   "cell_type": "code",
   "execution_count": 5,
   "id": "f1f5fe34",
   "metadata": {},
   "outputs": [
    {
     "name": "stdout",
     "output_type": "stream",
     "text": [
      "0\n",
      "1\n",
      "1\n",
      "4\n",
      "9\n",
      "25\n",
      "64\n",
      "64\n"
     ]
    }
   ],
   "source": [
    "def fabonaci():\n",
    "    \n",
    "    x,y,p=0,1,0\n",
    "    while (True):\n",
    "        yield x\n",
    "        x,y=y,x+y \n",
    "        p=p+x\n",
    "    return p    \n",
    "\n",
    "        \n",
    "for i in fabonaci():\n",
    "    if i>10:\n",
    "        break\n",
    "    print(i**2)\n",
    "    t=0\n",
    "    j=i**2\n",
    "    t=j+t\n",
    "print (t)   \n"
   ]
  },
  {
   "cell_type": "code",
   "execution_count": null,
   "id": "f71df8c0",
   "metadata": {},
   "outputs": [],
   "source": [
    "## create a generator that can reverse a string ."
   ]
  },
  {
   "cell_type": "code",
   "execution_count": null,
   "id": "190a91f7",
   "metadata": {},
   "outputs": [],
   "source": [
    "def rev(s):\n",
    "    for i in range(len(s)-1,-1,-1):\n",
    "        yield s[i]\n",
    "for i in rev(\"Gaurav\"):\n",
    "    print(i)\n",
    "        \n",
    "    "
   ]
  },
  {
   "cell_type": "code",
   "execution_count": null,
   "id": "de281c6d",
   "metadata": {},
   "outputs": [],
   "source": [
    "lst=[2,8,6,89]\n",
    "lst1= [x**2 for x in lst]"
   ]
  },
  {
   "cell_type": "code",
   "execution_count": null,
   "id": "5555f542",
   "metadata": {},
   "outputs": [],
   "source": [
    "lst1"
   ]
  },
  {
   "cell_type": "code",
   "execution_count": null,
   "id": "719f5c77",
   "metadata": {},
   "outputs": [],
   "source": [
    "gen=(x**2 for x in lst) ### using a generator expression we have to use () parnthesis\n",
    "print(gen)\n",
    "\n",
    "next(gen)"
   ]
  },
  {
   "cell_type": "code",
   "execution_count": null,
   "id": "8b9307c9",
   "metadata": {},
   "outputs": [],
   "source": [
    "### create a grenarator to find sum of squares of no in fibonaci sequence "
   ]
  },
  {
   "cell_type": "code",
   "execution_count": null,
   "id": "81862fa0",
   "metadata": {},
   "outputs": [],
   "source": []
  }
 ],
 "metadata": {
  "kernelspec": {
   "display_name": "Python 3",
   "language": "python",
   "name": "python3"
  },
  "language_info": {
   "codemirror_mode": {
    "name": "ipython",
    "version": 3
   },
   "file_extension": ".py",
   "mimetype": "text/x-python",
   "name": "python",
   "nbconvert_exporter": "python",
   "pygments_lexer": "ipython3",
   "version": "3.8.8"
  }
 },
 "nbformat": 4,
 "nbformat_minor": 5
}
